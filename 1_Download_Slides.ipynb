{
 "cells": [
  {
   "cell_type": "markdown",
   "id": "8bdd4aa3-4d86-4222-bd62-fe6b91220a51",
   "metadata": {},
   "source": [
    "# 1. Download Slides from the BIDS Lecture 2025\n",
    "The first Notebook downloads all presentation slides from zenodo and stores them in this repository.\n",
    "The [BIDS lecture](https://zenodo.org/records/15698366) is all about bio-image data science with Python and authored by Robert Haase. \n",
    "\n",
    "This Notebook can be executed OPTIONALLY, if the pre-computed Index is fetched from Zenodo in [the next Notebook](2_Index_Slides.ipynb) instead of creating it from scratch."
   ]
  },
  {
   "cell_type": "code",
   "execution_count": 1,
   "id": "be255bb3-622e-40b9-bd45-54840398d4e0",
   "metadata": {},
   "outputs": [],
   "source": [
    "import requests, os\n",
    "\n",
    "API_URL = f\"https://zenodo.org/api/records/15698366\"\n",
    "\n",
    "resp = requests.get(API_URL)\n",
    "resp.raise_for_status()\n",
    "record = resp.json()\n",
    "\n",
    "# Create output folder\n",
    "folder = \"BIDS_pdfs\"\n",
    "os.makedirs(folder, exist_ok=True)"
   ]
  },
  {
   "cell_type": "code",
   "execution_count": 3,
   "id": "61f28ec7-51e5-4f61-b8ee-7bc93293b402",
   "metadata": {},
   "outputs": [
    {
     "name": "stdout",
     "output_type": "stream",
     "text": [
      "Downloading 07_Deep_Learning.pdf\n",
      "Saved to BIDS_pdfs/07_Deep_Learning.pdf\n",
      "Downloading 06_Sup_Unsup_Machine_Learning.pdf\n",
      "Saved to BIDS_pdfs/06_Sup_Unsup_Machine_Learning.pdf\n",
      "Downloading 03_Image_segmentation.pdf\n",
      "Saved to BIDS_pdfs/03_Image_segmentation.pdf\n",
      "Downloading 01_Introduction_BIDS_2025.pdf\n",
      "Saved to BIDS_pdfs/01_Introduction_BIDS_2025.pdf\n",
      "Downloading 02_Image_Processing.pdf\n",
      "Saved to BIDS_pdfs/02_Image_Processing.pdf\n",
      "Downloading 04_Surface_Reconstruction_Feature_Extraction.pdf\n",
      "Saved to BIDS_pdfs/04_Surface_Reconstruction_Feature_Extraction.pdf\n",
      "Downloading 05_GPUs_Tiles_QA.pdf\n",
      "Saved to BIDS_pdfs/05_GPUs_Tiles_QA.pdf\n",
      "Downloading 08_LLMs_Intro.pdf\n",
      "Saved to BIDS_pdfs/08_LLMs_Intro.pdf\n",
      "Downloading 09_Code_Generation.pdf\n",
      "Saved to BIDS_pdfs/09_Code_Generation.pdf\n"
     ]
    }
   ],
   "source": [
    "# Loop through attached files\n",
    "for f in record.get('files', []):\n",
    "    fname = f['key']\n",
    "    if fname.lower().endswith('.pdf'):\n",
    "        dl_url = f['links']['self']\n",
    "        print(\"Downloading\", fname)\n",
    "        r2 = requests.get(dl_url, stream=True)\n",
    "        r2.raise_for_status()\n",
    "        path = os.path.join(folder, fname)\n",
    "        with open(path, 'wb') as out:\n",
    "            for chunk in r2.iter_content(1<<20):\n",
    "                out.write(chunk)\n",
    "        print(\"Saved to\", path)"
   ]
  },
  {
   "cell_type": "markdown",
   "id": "3544378e-c4d4-41b9-8a7b-efbc77e84696",
   "metadata": {},
   "source": [
    "You can now check the pdf files in the BIDS_pdfs folder in the repository."
   ]
  }
 ],
 "metadata": {
  "kernelspec": {
   "display_name": "Python 3 (ipykernel)",
   "language": "python",
   "name": "python3"
  },
  "language_info": {
   "codemirror_mode": {
    "name": "ipython",
    "version": 3
   },
   "file_extension": ".py",
   "mimetype": "text/x-python",
   "name": "python",
   "nbconvert_exporter": "python",
   "pygments_lexer": "ipython3",
   "version": "3.10.12"
  }
 },
 "nbformat": 4,
 "nbformat_minor": 5
}
